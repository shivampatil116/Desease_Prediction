{
 "cells": [
  {
   "cell_type": "code",
   "execution_count": 6,
   "id": "bc855095",
   "metadata": {},
   "outputs": [
    {
     "name": "stdout",
     "output_type": "stream",
     "text": [
      "Accuracy: 0.0\n",
      "Please enter the symptoms:\n",
      "Symptom1: Runny Nose\n",
      "Symptom2: Nausea\n",
      "Symptom3: Weakness\n",
      "Predicted disease: Flu\n"
     ]
    }
   ],
   "source": [
    "import pandas as pd\n",
    "from sklearn.ensemble import RandomForestClassifier\n",
    "from sklearn.model_selection import train_test_split\n",
    "\n",
    "# Step 1: Dataset\n",
    "df = pd.read_csv(\"data.csv\")\n",
    "\n",
    "# Step 2: Data Preprocessing\n",
    "X = df[['Symptom1', 'Symptom2', 'Symptom3']]\n",
    "y = df['Disease']\n",
    "\n",
    "# One-hot encoding for categorical features\n",
    "X = pd.get_dummies(X)\n",
    "\n",
    "# Splitting the dataset into training and testing sets\n",
    "X_train, X_test, y_train, y_test = train_test_split(X, y, test_size=0.2, random_state=42)\n",
    "\n",
    "# Step 3: Model Selection and Training\n",
    "model = RandomForestClassifier(random_state=42)\n",
    "model.fit(X_train, y_train)\n",
    "\n",
    "# Step 4: Model Evaluation\n",
    "accuracy = model.score(X_test, y_test)\n",
    "print(\"Accuracy:\", accuracy)\n",
    "\n",
    "# Step 5: User Input and Prediction\n",
    "print(\"Please enter the symptoms:\")\n",
    "user_input = {}\n",
    "for symptom in ['Symptom1', 'Symptom2', 'Symptom3']:\n",
    "    value = input(f\"{symptom}: \")\n",
    "    user_input[symptom] = value\n",
    "\n",
    "# Preprocess the user input\n",
    "user_input_df = pd.DataFrame([user_input])\n",
    "user_input_encoded = pd.get_dummies(user_input_df).reindex(columns=X.columns, fill_value=0)\n",
    "\n",
    "# Make predictions for the user input\n",
    "prediction = model.predict(user_input_encoded)\n",
    "print(\"Predicted disease:\", prediction[0])\n"
   ]
  },
  {
   "cell_type": "code",
   "execution_count": null,
   "id": "80256814",
   "metadata": {},
   "outputs": [],
   "source": []
  }
 ],
 "metadata": {
  "kernelspec": {
   "display_name": "Python 3 (ipykernel)",
   "language": "python",
   "name": "python3"
  },
  "language_info": {
   "codemirror_mode": {
    "name": "ipython",
    "version": 3
   },
   "file_extension": ".py",
   "mimetype": "text/x-python",
   "name": "python",
   "nbconvert_exporter": "python",
   "pygments_lexer": "ipython3",
   "version": "3.10.10"
  }
 },
 "nbformat": 4,
 "nbformat_minor": 5
}
